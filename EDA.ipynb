{
 "cells": [
  {
   "cell_type": "code",
   "execution_count": 1,
   "metadata": {},
   "outputs": [],
   "source": [
    "import requests\n",
    "import json\n",
    "import pandas as pd\n",
    "\n"
   ]
  },
  {
   "cell_type": "code",
   "execution_count": 2,
   "metadata": {},
   "outputs": [],
   "source": [
    "URL = 'https://www.myfitnesspal.com/api/nutrition?query=mango'"
   ]
  },
  {
   "cell_type": "code",
   "execution_count": 3,
   "metadata": {},
   "outputs": [
    {
     "ename": "SyntaxError",
     "evalue": "invalid syntax (3627404919.py, line 1)",
     "output_type": "error",
     "traceback": [
      "\u001b[1;36m  Cell \u001b[1;32mIn[3], line 1\u001b[1;36m\u001b[0m\n\u001b[1;33m    https://www.myfitnesspal.com/api/nutrition?query=mango&page=23\u001b[0m\n\u001b[1;37m          ^\u001b[0m\n\u001b[1;31mSyntaxError\u001b[0m\u001b[1;31m:\u001b[0m invalid syntax\n"
     ]
    }
   ],
   "source": [
    "# https://www.myfitnesspal.com/api/nutrition?query=mango&page=23"
   ]
  },
  {
   "cell_type": "code",
   "execution_count": 4,
   "metadata": {},
   "outputs": [],
   "source": [
    "\n",
    "url2 = 'https://www.myfitnesspal.com/_next/data/ftv_CgsqAzuLxJDoSt2gK/en/food/calories/mango-2308350091.json?id=mango-2308350091' # do not use this one"
   ]
  },
  {
   "cell_type": "code",
   "execution_count": 5,
   "metadata": {},
   "outputs": [],
   "source": [
    "BASE_URL = 'https://www.myfitnesspal.com/api/nutrition'\n",
    "params = {\n",
    "    \"query\" :'mango',\n",
    "    \"page\" :1}\n",
    "headers = {\n",
    "    \"Cookie\": \"__cf_bm=j4.MFsNcyO2XP1W6ihLhXo_J7I47W1f2YNhYHotfGuI-1703083056-1-AfqDDzl1NuiHX2nGAqNcNObx4OgY03O6+30pn6TNtmLRCYqWEWWURCPScHnIIk/u24gHD7NYslJrflWtSiOLeuc=; __Host-next-auth.csrf-token=7d4370b1d6aec2b9abec4535c8df0108518f69828d07d97722e48a2dbd4fa9d0%7Cc5937eff48de57d45b5e80bbc2b4248dda093d32a3e8be52642cee93d4932c78; __Secure-next-auth.callback-url=https%3A%2F%2Fwww.myfitnesspal.com; anon-device-id=68602444-2b31-4bc6-bd55-d35c009e0de1\"\n",
    "}"
   ]
  },
  {
   "cell_type": "code",
   "execution_count": 6,
   "metadata": {},
   "outputs": [],
   "source": [
    "response = requests.request('GET', BASE_URL, headers=headers, params=params)"
   ]
  },
  {
   "cell_type": "markdown",
   "metadata": {},
   "source": [
    "'''\n",
    "    required data : nutrition values\n",
    "    id for the food product\n",
    "    item count zero then drop\n",
    "'''"
   ]
  },
  {
   "cell_type": "code",
   "execution_count": 7,
   "metadata": {},
   "outputs": [],
   "source": [
    "current_page = 1"
   ]
  },
  {
   "cell_type": "code",
   "execution_count": 8,
   "metadata": {},
   "outputs": [],
   "source": [
    "data = response.json()"
   ]
  },
  {
   "cell_type": "code",
   "execution_count": 11,
   "metadata": {},
   "outputs": [],
   "source": [
    "totalResultCount = data.get('totalResultsCount') ## \n"
   ]
  },
  {
   "cell_type": "code",
   "execution_count": 12,
   "metadata": {},
   "outputs": [],
   "source": [
    "page_data = data.get('items')"
   ]
  },
  {
   "cell_type": "code",
   "execution_count": 13,
   "metadata": {},
   "outputs": [],
   "source": [
    "single_record = page_data[0]\n",
    "               "
   ]
  },
  {
   "cell_type": "code",
   "execution_count": 47,
   "metadata": {},
   "outputs": [],
   "source": [
    "item = single_record.get('item')"
   ]
  },
  {
   "cell_type": "code",
   "execution_count": 49,
   "metadata": {},
   "outputs": [
    {
     "name": "stdout",
     "output_type": "stream",
     "text": [
      "dict_keys(['country_code', 'deleted', 'description', 'id', 'nutritional_contents', 'public', 'type', 'user_id', 'verified', 'version'])\n",
      "dict_keys(['country_code', 'deleted', 'description', 'id', 'nutritional_contents', 'public', 'type', 'user_id', 'verified', 'version'])\n",
      "dict_keys(['country_code', 'deleted', 'description', 'id', 'nutritional_contents', 'public', 'type', 'user_id', 'verified', 'version'])\n",
      "dict_keys(['country_code', 'deleted', 'description', 'id', 'nutritional_contents', 'public', 'type', 'user_id', 'verified', 'version'])\n",
      "dict_keys(['country_code', 'deleted', 'description', 'id', 'nutritional_contents', 'public', 'type', 'user_id', 'verified', 'version'])\n",
      "dict_keys(['country_code', 'deleted', 'description', 'id', 'nutritional_contents', 'public', 'type', 'user_id', 'verified', 'version'])\n",
      "dict_keys(['country_code', 'deleted', 'description', 'id', 'nutritional_contents', 'public', 'type', 'user_id', 'verified', 'version'])\n",
      "dict_keys(['country_code', 'deleted', 'description', 'id', 'nutritional_contents', 'public', 'type', 'user_id', 'verified', 'version'])\n",
      "dict_keys(['country_code', 'deleted', 'description', 'id', 'nutritional_contents', 'public', 'type', 'user_id', 'verified', 'version'])\n",
      "dict_keys(['country_code', 'deleted', 'description', 'id', 'nutritional_contents', 'public', 'type', 'user_id', 'verified', 'version'])\n"
     ]
    }
   ],
   "source": [
    "for key in item.keys():\n",
    "    if type(item[key]) is list:\n",
    "        print(type(item[key]), key)\n",
    "         \n",
    "        # sizes = item[key]\n",
    "        sizes = item.pop(key)\n",
    "        # print(sizes)\n",
    "\n"
   ]
  },
  {
   "cell_type": "code",
   "execution_count": 50,
   "metadata": {},
   "outputs": [
    {
     "name": "stdout",
     "output_type": "stream",
     "text": [
      "dict_keys(['country_code', 'deleted', 'description', 'id', 'nutritional_contents', 'public', 'type', 'user_id', 'verified', 'version'])\n"
     ]
    }
   ],
   "source": [
    "print(item.keys())"
   ]
  },
  {
   "cell_type": "code",
   "execution_count": 45,
   "metadata": {},
   "outputs": [
    {
     "data": {
      "text/plain": [
       "[{'id': '237664063074221',\n",
       "  'index': 0,\n",
       "  'nutrition_multiplier': 0.825,\n",
       "  'unit': 'cup, pieces',\n",
       "  'value': 0.5},\n",
       " {'id': '238213818888109',\n",
       "  'index': 1,\n",
       "  'nutrition_multiplier': 2.1,\n",
       "  'unit': 'mango',\n",
       "  'value': 1},\n",
       " {'id': '237664071462701',\n",
       "  'index': 2,\n",
       "  'nutrition_multiplier': 0.25,\n",
       "  'unit': 'slice',\n",
       "  'value': 1},\n",
       " {'id': '237664071462829',\n",
       "  'index': 3,\n",
       "  'nutrition_multiplier': 1e-05,\n",
       "  'unit': 'milligram',\n",
       "  'value': 1},\n",
       " {'id': '238213827276717',\n",
       "  'index': 4,\n",
       "  'nutrition_multiplier': 0.01,\n",
       "  'unit': 'gram',\n",
       "  'value': 1},\n",
       " {'id': '237664063106861',\n",
       "  'index': 5,\n",
       "  'nutrition_multiplier': 0.283495,\n",
       "  'unit': 'ounce',\n",
       "  'value': 1},\n",
       " {'id': '238213818920749',\n",
       "  'index': 6,\n",
       "  'nutrition_multiplier': 4.53592,\n",
       "  'unit': 'pound',\n",
       "  'value': 1},\n",
       " {'id': '237664063106989',\n",
       "  'index': 7,\n",
       "  'nutrition_multiplier': 10,\n",
       "  'unit': 'kilogram',\n",
       "  'value': 1}]"
      ]
     },
     "execution_count": 45,
     "metadata": {},
     "output_type": "execute_result"
    }
   ],
   "source": [
    "sizes"
   ]
  },
  {
   "cell_type": "code",
   "execution_count": 38,
   "metadata": {},
   "outputs": [],
   "source": [
    "sizes_df = pd.DataFrame(sizes)"
   ]
  },
  {
   "cell_type": "code",
   "execution_count": 39,
   "metadata": {},
   "outputs": [
    {
     "ename": "AttributeError",
     "evalue": "'dict' object has no attribute 'remove'",
     "output_type": "error",
     "traceback": [
      "\u001b[1;31m---------------------------------------------------------------------------\u001b[0m",
      "\u001b[1;31mAttributeError\u001b[0m                            Traceback (most recent call last)",
      "\u001b[1;32mg:\\github_clones\\food-nutrition-data\\EDA.ipynb Cell 16\u001b[0m line \u001b[0;36m1\n\u001b[1;32m----> <a href='vscode-notebook-cell:/g%3A/github_clones/food-nutrition-data/EDA.ipynb#X30sZmlsZQ%3D%3D?line=0'>1</a>\u001b[0m item \u001b[39m=\u001b[39m item\u001b[39m.\u001b[39;49mremove(remove_key)\n",
      "\u001b[1;31mAttributeError\u001b[0m: 'dict' object has no attribute 'remove'"
     ]
    }
   ],
   "source": [
    "item = item.remove(remove_key)"
   ]
  },
  {
   "cell_type": "code",
   "execution_count": 35,
   "metadata": {},
   "outputs": [
    {
     "data": {
      "text/html": [
       "<div>\n",
       "<style scoped>\n",
       "    .dataframe tbody tr th:only-of-type {\n",
       "        vertical-align: middle;\n",
       "    }\n",
       "\n",
       "    .dataframe tbody tr th {\n",
       "        vertical-align: top;\n",
       "    }\n",
       "\n",
       "    .dataframe thead th {\n",
       "        text-align: right;\n",
       "    }\n",
       "</style>\n",
       "<table border=\"1\" class=\"dataframe\">\n",
       "  <thead>\n",
       "    <tr style=\"text-align: right;\">\n",
       "      <th></th>\n",
       "      <th>id</th>\n",
       "      <th>index</th>\n",
       "      <th>nutrition_multiplier</th>\n",
       "      <th>unit</th>\n",
       "      <th>value</th>\n",
       "    </tr>\n",
       "  </thead>\n",
       "  <tbody>\n",
       "    <tr>\n",
       "      <th>0</th>\n",
       "      <td>237664063074221</td>\n",
       "      <td>0</td>\n",
       "      <td>0.825000</td>\n",
       "      <td>cup, pieces</td>\n",
       "      <td>0.5</td>\n",
       "    </tr>\n",
       "    <tr>\n",
       "      <th>1</th>\n",
       "      <td>238213818888109</td>\n",
       "      <td>1</td>\n",
       "      <td>2.100000</td>\n",
       "      <td>mango</td>\n",
       "      <td>1.0</td>\n",
       "    </tr>\n",
       "    <tr>\n",
       "      <th>2</th>\n",
       "      <td>237664071462701</td>\n",
       "      <td>2</td>\n",
       "      <td>0.250000</td>\n",
       "      <td>slice</td>\n",
       "      <td>1.0</td>\n",
       "    </tr>\n",
       "    <tr>\n",
       "      <th>3</th>\n",
       "      <td>237664071462829</td>\n",
       "      <td>3</td>\n",
       "      <td>0.000010</td>\n",
       "      <td>milligram</td>\n",
       "      <td>1.0</td>\n",
       "    </tr>\n",
       "    <tr>\n",
       "      <th>4</th>\n",
       "      <td>238213827276717</td>\n",
       "      <td>4</td>\n",
       "      <td>0.010000</td>\n",
       "      <td>gram</td>\n",
       "      <td>1.0</td>\n",
       "    </tr>\n",
       "    <tr>\n",
       "      <th>5</th>\n",
       "      <td>237664063106861</td>\n",
       "      <td>5</td>\n",
       "      <td>0.283495</td>\n",
       "      <td>ounce</td>\n",
       "      <td>1.0</td>\n",
       "    </tr>\n",
       "    <tr>\n",
       "      <th>6</th>\n",
       "      <td>238213818920749</td>\n",
       "      <td>6</td>\n",
       "      <td>4.535920</td>\n",
       "      <td>pound</td>\n",
       "      <td>1.0</td>\n",
       "    </tr>\n",
       "    <tr>\n",
       "      <th>7</th>\n",
       "      <td>237664063106989</td>\n",
       "      <td>7</td>\n",
       "      <td>10.000000</td>\n",
       "      <td>kilogram</td>\n",
       "      <td>1.0</td>\n",
       "    </tr>\n",
       "  </tbody>\n",
       "</table>\n",
       "</div>"
      ],
      "text/plain": [
       "                id  index  nutrition_multiplier         unit  value\n",
       "0  237664063074221      0              0.825000  cup, pieces    0.5\n",
       "1  238213818888109      1              2.100000        mango    1.0\n",
       "2  237664071462701      2              0.250000        slice    1.0\n",
       "3  237664071462829      3              0.000010    milligram    1.0\n",
       "4  238213827276717      4              0.010000         gram    1.0\n",
       "5  237664063106861      5              0.283495        ounce    1.0\n",
       "6  238213818920749      6              4.535920        pound    1.0\n",
       "7  237664063106989      7             10.000000     kilogram    1.0"
      ]
     },
     "execution_count": 35,
     "metadata": {},
     "output_type": "execute_result"
    }
   ],
   "source": [
    "sizes_df"
   ]
  },
  {
   "cell_type": "code",
   "execution_count": 24,
   "metadata": {},
   "outputs": [],
   "source": [
    "item_data= pd.json_normalize(item,sep = '_')\n"
   ]
  },
  {
   "cell_type": "code",
   "execution_count": 25,
   "metadata": {},
   "outputs": [],
   "source": [
    "item_data.to_excel('test.xlsx')"
   ]
  },
  {
   "cell_type": "code",
   "execution_count": 73,
   "metadata": {},
   "outputs": [],
   "source": [
    "import config"
   ]
  },
  {
   "cell_type": "code",
   "execution_count": 57,
   "metadata": {},
   "outputs": [],
   "source": [
    "session = requests.Session()"
   ]
  },
  {
   "cell_type": "code",
   "execution_count": 59,
   "metadata": {},
   "outputs": [],
   "source": [
    "response = session.request('GET',BASE_URL)"
   ]
  },
  {
   "cell_type": "code",
   "execution_count": null,
   "metadata": {},
   "outputs": [],
   "source": [
    "headers = {\n",
    "    \"Cookie\": \"__cf_bm=j4.MFsNcyO2XP1W6ihLhXo_J7I47W1f2YNhYHotfGuI-1703083056-1-AfqDDzl1NuiHX2nGAqNcNObx4OgY03O6+30pn6TNtmLRCYqWEWWURCPScHnIIk/u24gHD7NYslJrflWtSiOLeuc=; __Host-next-auth.csrf-token=7d4370b1d6aec2b9abec4535c8df0108518f69828d07d97722e48a2dbd4fa9d0%7Cc5937eff48de57d45b5e80bbc2b4248dda093d32a3e8be52642cee93d4932c78; __Secure-next-auth.callback-url=https%3A%2F%2Fwww.myfitnesspal.com; anon-device-id=68602444-2b31-4bc6-bd55-d35c009e0de1\"\n",
    "}"
   ]
  },
  {
   "cell_type": "code",
   "execution_count": 63,
   "metadata": {},
   "outputs": [],
   "source": [
    "cookies = response.cookies"
   ]
  },
  {
   "cell_type": "code",
   "execution_count": 67,
   "metadata": {},
   "outputs": [
    {
     "data": {
      "text/plain": [
       "'2G8Cft3u0zY4I76whezzmsooGpaXxQkKkzmst2P7uMc-1703096244-1-AYpjJoEEUSBY1rpuG3zKc7cgisDRpVnDSAc+YXNUE/knAkF2OS5E4DH+MpYAKiEMb6FyucF5yDOVcnslqNom3Yk='"
      ]
     },
     "execution_count": 67,
     "metadata": {},
     "output_type": "execute_result"
    }
   ],
   "source": [
    "cookies.get('__cf_bm')"
   ]
  },
  {
   "cell_type": "code",
   "execution_count": 101,
   "metadata": {},
   "outputs": [],
   "source": [
    "BASE_URL= 'https://www.myfitnesspal.com/api/nutrition'\n",
    "\n",
    "headers = {\n",
    "    'Cookie':cookies.get('__cf_bm')\n",
    "}\n",
    "\n",
    "params = {\n",
    "    \"query\" : 'Dosa',\n",
    "    \"page\" : 1\n",
    "}\n",
    "\n",
    "\n",
    "data_response = requests.request('GET',BASE_URL, headers=headers, params=params)"
   ]
  },
  {
   "cell_type": "code",
   "execution_count": 104,
   "metadata": {},
   "outputs": [
    {
     "name": "stdout",
     "output_type": "stream",
     "text": [
      "working\n"
     ]
    }
   ],
   "source": [
    "if len(data_response.json()['items']) != 0:\n",
    "    print('working')"
   ]
  },
  {
   "cell_type": "code",
   "execution_count": 91,
   "metadata": {},
   "outputs": [
    {
     "data": {
      "text/plain": [
       "{'Date': 'Wed, 20 Dec 2023 18:36:53 GMT', 'Content-Type': 'text/html; charset=utf-8', 'Transfer-Encoding': 'chunked', 'Connection': 'keep-alive', 'strict-transport-security': 'max-age=15724800; includeSubDomains', 'x-xss-protection': '1; mode=block', 'x-frame-options': 'SAMEORIGIN', 'x-content-type-options': 'nosniff', 'content-security-policy': \"base-uri 'self';object-src 'none';script-src 'self' 'unsafe-inline' 'unsafe-eval' https: blob:;report-uri https://csp-report.browser-intake-datadoghq.com/api/v2/logs?dd-api-key=pub6bacd8a3d2ff4a25d741e639b3320206&dd-evp-origin=content-security-policy&ddsource=csp-report&ddtags=env:nutrition-prod;report-to https://csp-report.browser-intake-datadoghq.com/api/v2/logs?dd-api-key=pub6bacd8a3d2ff4a25d741e639b3320206&dd-evp-origin=content-security-policy&ddsource=csp-report&ddtags=env:nutrition-prod\", 'Cache-Control': 'private, no-cache, no-store, max-age=0, must-revalidate', 'vary': 'Accept-Encoding', 'recruiting': 'If you are reading this maybe you should be working at MyFitnessPal instead! Check out https://www.myfitnesspal.com/careers', 'CF-Cache-Status': 'DYNAMIC', 'Set-Cookie': '__cf_bm=5CKMULk4Bbl0K_b7Rfr6ylSEJ0mh3YnFLYw9REjk9FQ-1703097413-1-ARJf4CLwZwZSsWiuCBZa2iEO2XBzQnOWfWxAg5VjNSJnAVwSIE0+FnM1OT0dsIGbO61vhcVOMU8tUM9hc8L+2nU=; path=/; expires=Wed, 20-Dec-23 19:06:53 GMT; domain=.myfitnesspal.com; HttpOnly; Secure; SameSite=None', 'Server': 'cloudflare', 'CF-RAY': '8389fe4e89c31bca-BOM', 'Content-Encoding': 'gzip', 'alt-svc': 'h3=\":443\"; ma=86400'}"
      ]
     },
     "execution_count": 91,
     "metadata": {},
     "output_type": "execute_result"
    }
   ],
   "source": [
    "data_response.headers"
   ]
  },
  {
   "cell_type": "code",
   "execution_count": 110,
   "metadata": {},
   "outputs": [],
   "source": [
    "runner = True\n",
    "\n",
    "def run():\n",
    "    i = 1\n",
    "    while runner:\n",
    "        print(i)\n",
    "\n",
    "        if i == 5: \n",
    "            return i\n",
    "\n",
    "\n",
    "        i += 1\n"
   ]
  },
  {
   "cell_type": "code",
   "execution_count": 112,
   "metadata": {},
   "outputs": [
    {
     "name": "stdout",
     "output_type": "stream",
     "text": [
      "1\n",
      "2\n",
      "3\n",
      "4\n",
      "5\n",
      "Returned 5\n"
     ]
    }
   ],
   "source": [
    "print('Returned',run())"
   ]
  },
  {
   "cell_type": "code",
   "execution_count": 118,
   "metadata": {},
   "outputs": [
    {
     "name": "stdout",
     "output_type": "stream",
     "text": [
      "{'query': 'food_item', 'page': 1}\n"
     ]
    },
    {
     "data": {
      "text/plain": [
       "{'query': 'food_item', 'page': 4}"
      ]
     },
     "execution_count": 118,
     "metadata": {},
     "output_type": "execute_result"
    }
   ],
   "source": [
    "params = {\n",
    "    'query':'food_item',\n",
    "    'page' : 1\n",
    "}\n",
    "\n",
    "print(params)\n",
    "\n",
    "\n",
    "params.update({'page':4})\n",
    "\n",
    "params"
   ]
  }
 ],
 "metadata": {
  "kernelspec": {
   "display_name": "Python 3",
   "language": "python",
   "name": "python3"
  },
  "language_info": {
   "codemirror_mode": {
    "name": "ipython",
    "version": 3
   },
   "file_extension": ".py",
   "mimetype": "text/x-python",
   "name": "python",
   "nbconvert_exporter": "python",
   "pygments_lexer": "ipython3",
   "version": "3.11.4"
  }
 },
 "nbformat": 4,
 "nbformat_minor": 2
}
